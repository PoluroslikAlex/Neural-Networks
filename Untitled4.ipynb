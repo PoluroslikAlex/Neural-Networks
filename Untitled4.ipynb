{
 "cells": [
  {
   "cell_type": "code",
   "execution_count": 5,
   "id": "6a739fdb-89c5-408f-9517-0251a811ef87",
   "metadata": {},
   "outputs": [],
   "source": [
    "import torch\n",
    "from torch.autograd import grad\n",
    "import torch.nn.functional as F\n",
    "import torch.nn as nn"
   ]
  },
  {
   "cell_type": "code",
   "execution_count": 6,
   "id": "0dc83707-4c06-49f9-bf29-f78e96c39ac8",
   "metadata": {},
   "outputs": [],
   "source": [
    "x=torch.rand(5,3)"
   ]
  },
  {
   "cell_type": "code",
   "execution_count": 7,
   "id": "7f1dce48-1cb7-4478-a6f4-f75a510afa1a",
   "metadata": {},
   "outputs": [
    {
     "data": {
      "text/plain": [
       "tensor([[0.4480, 0.5189, 0.6776],\n",
       "        [0.7036, 0.7010, 0.3071],\n",
       "        [0.0301, 0.5276, 0.3152],\n",
       "        [0.9290, 0.7014, 0.5104],\n",
       "        [0.2945, 0.6861, 0.4275]])"
      ]
     },
     "execution_count": 7,
     "metadata": {},
     "output_type": "execute_result"
    }
   ],
   "source": [
    "x"
   ]
  },
  {
   "cell_type": "code",
   "execution_count": 8,
   "id": "ed6ca6b9-cd41-4156-adaf-780e5c2f8da2",
   "metadata": {},
   "outputs": [
    {
     "data": {
      "text/plain": [
       "False"
      ]
     },
     "execution_count": 8,
     "metadata": {},
     "output_type": "execute_result"
    }
   ],
   "source": [
    "torch.cuda.is_available()"
   ]
  },
  {
   "cell_type": "code",
   "execution_count": 9,
   "id": "852a2a55-194c-4dce-8035-a88f2c65f374",
   "metadata": {},
   "outputs": [],
   "source": [
    "tensor_0d= torch.tensor(1)"
   ]
  },
  {
   "cell_type": "code",
   "execution_count": 10,
   "id": "212afd75-d5e7-4ddc-8414-ba336e45b3da",
   "metadata": {},
   "outputs": [],
   "source": [
    "tensor_1d= torch.tensor([1.0,2.0,3.0])"
   ]
  },
  {
   "cell_type": "code",
   "execution_count": 11,
   "id": "9c0666b7-54be-4d3d-af71-d237a849eb54",
   "metadata": {},
   "outputs": [
    {
     "name": "stdout",
     "output_type": "stream",
     "text": [
      "tensor([1., 2., 3.])\n"
     ]
    }
   ],
   "source": [
    "print(tensor_1d)"
   ]
  },
  {
   "cell_type": "code",
   "execution_count": 12,
   "id": "a045dc60-a381-4bb6-8417-cc379915fcb3",
   "metadata": {},
   "outputs": [
    {
     "name": "stdout",
     "output_type": "stream",
     "text": [
      "tensor([1., 2., 3.])\n"
     ]
    }
   ],
   "source": [
    "print(tensor_1d.t())"
   ]
  },
  {
   "cell_type": "code",
   "execution_count": 13,
   "id": "5ea4646b-b891-4f85-a193-619db8adfdd3",
   "metadata": {},
   "outputs": [],
   "source": [
    "x= torch.tensor([1.0],requires_grad=True)\n",
    "y=torch.tensor([1.0])\n",
    "w=torch.tensor([2.2],requires_grad=True)\n",
    "b=torch.tensor([0.0],requires_grad=True)\n",
    "z=w*x+b"
   ]
  },
  {
   "cell_type": "code",
   "execution_count": 14,
   "id": "10f2ea2a-4bcf-43c6-b410-f70a90705dcc",
   "metadata": {},
   "outputs": [],
   "source": [
    "a =torch.sigmoid(z)"
   ]
  },
  {
   "cell_type": "code",
   "execution_count": 15,
   "id": "2ca1d5c4-d1f2-45ec-869a-242b4120471b",
   "metadata": {},
   "outputs": [],
   "source": [
    "loss=F.binary_cross_entropy(a,y)\n"
   ]
  },
  {
   "cell_type": "code",
   "execution_count": 16,
   "id": "3de9b5ec-0e99-460c-9123-325134b2ffa9",
   "metadata": {},
   "outputs": [],
   "source": [
    "grad_L_w=grad(loss,w,retain_graph=True)\n",
    "grad_L_b=grad(loss,b,retain_graph=True)"
   ]
  },
  {
   "cell_type": "code",
   "execution_count": 17,
   "id": "9b4ccf26-7eaa-40cc-9d76-86d8b63d64f4",
   "metadata": {},
   "outputs": [
    {
     "name": "stdout",
     "output_type": "stream",
     "text": [
      "(tensor([-0.0998]),) (tensor([-0.0998]),)\n"
     ]
    }
   ],
   "source": [
    "print(grad_L_w,grad_L_b)"
   ]
  },
  {
   "cell_type": "code",
   "execution_count": 18,
   "id": "b13bf57a-0729-47cd-8e1c-4375b36613a7",
   "metadata": {},
   "outputs": [],
   "source": [
    "loss.backward()"
   ]
  },
  {
   "cell_type": "code",
   "execution_count": 19,
   "id": "07e1ad0f-7915-4cb0-bc20-fb1444fef341",
   "metadata": {},
   "outputs": [
    {
     "name": "stdout",
     "output_type": "stream",
     "text": [
      "tensor([-0.0998])\n"
     ]
    }
   ],
   "source": [
    "print(w.grad)"
   ]
  },
  {
   "cell_type": "code",
   "execution_count": 20,
   "id": "537543a3-03de-4e53-8ff9-b31c6302b3a9",
   "metadata": {},
   "outputs": [
    {
     "name": "stdout",
     "output_type": "stream",
     "text": [
      "tensor([-0.2195])\n"
     ]
    }
   ],
   "source": [
    "print(x.grad)"
   ]
  },
  {
   "cell_type": "code",
   "execution_count": 21,
   "id": "8ade947b-b8ac-4f17-a86f-bb96a5eb2f96",
   "metadata": {},
   "outputs": [],
   "source": [
    "class NeuralNetwork(nn.Module):\n",
    "    def __init__(self,num_inputs,num_outputs):\n",
    "        super().__init__()\n",
    "        # 1st layer\n",
    "        self.layers= nn.Sequential(\n",
    "        nn.Linear(num_inputs,10),\n",
    "        nn.ReLU(),\n",
    "        # 2nd layer\n",
    "        nn.Linear(10,10),\n",
    "        nn.ReLU(),\n",
    "        # 3rd layer\n",
    "        nn.Linear(10,num_outputs),\n",
    "        nn.Sigmoid(),\n",
    "        )\n",
    "    def forward(self,x):\n",
    "        return self.layers(x)"
   ]
  },
  {
   "cell_type": "code",
   "execution_count": 22,
   "id": "aa9943e6-6ed8-4570-b097-676e1caedacb",
   "metadata": {},
   "outputs": [],
   "source": [
    "torch.manual_seed(38)\n",
    "model =NeuralNetwork(4,3)"
   ]
  },
  {
   "cell_type": "code",
   "execution_count": 23,
   "id": "30e6deb1-5cca-474d-8d8e-5f298a8d9017",
   "metadata": {},
   "outputs": [
    {
     "name": "stdout",
     "output_type": "stream",
     "text": [
      "NeuralNetwork(\n",
      "  (layers): Sequential(\n",
      "    (0): Linear(in_features=4, out_features=10, bias=True)\n",
      "    (1): ReLU()\n",
      "    (2): Linear(in_features=10, out_features=10, bias=True)\n",
      "    (3): ReLU()\n",
      "    (4): Linear(in_features=10, out_features=3, bias=True)\n",
      "    (5): Sigmoid()\n",
      "  )\n",
      ")\n"
     ]
    }
   ],
   "source": [
    "print(model)"
   ]
  },
  {
   "cell_type": "code",
   "execution_count": 24,
   "id": "c6d77d85-c5bd-4614-9328-fc6fa7555b65",
   "metadata": {},
   "outputs": [
    {
     "name": "stdout",
     "output_type": "stream",
     "text": [
      "Parameter containing:\n",
      "tensor([[ 0.1037, -0.0924,  0.2474,  0.2455, -0.0844, -0.1356, -0.2640, -0.0856,\n",
      "          0.1207, -0.1866],\n",
      "        [-0.2398, -0.0372, -0.2103,  0.2676,  0.2918, -0.2648,  0.0027,  0.0179,\n",
      "         -0.1958,  0.0784],\n",
      "        [ 0.0679, -0.0103,  0.2625, -0.2971,  0.2633, -0.1332,  0.0210,  0.1342,\n",
      "         -0.2533,  0.2423]], requires_grad=True)\n"
     ]
    }
   ],
   "source": [
    "print(model.layers[4].weight)"
   ]
  },
  {
   "cell_type": "code",
   "execution_count": 25,
   "id": "95a20014-a152-44f4-a15a-8d45af5c35a5",
   "metadata": {},
   "outputs": [],
   "source": [
    "#params=[p for p in model.parameters() if p.requires_grad]\n",
    "#params"
   ]
  },
  {
   "cell_type": "code",
   "execution_count": 26,
   "id": "80354841-c875-4b51-98f4-3bdd2ca1c0f8",
   "metadata": {},
   "outputs": [
    {
     "name": "stdout",
     "output_type": "stream",
     "text": [
      "tensor([[0.3150, 0.3380, 0.3470]])\n"
     ]
    }
   ],
   "source": [
    "with torch.no_grad():\n",
    "    x=torch.rand((1,4))\n",
    "    y=model(x)\n",
    "    out = torch.softmax(y,dim=1)\n",
    "print (out)"
   ]
  },
  {
   "cell_type": "code",
   "execution_count": 27,
   "id": "0f9abbaa-b7fa-4f70-a985-7add42570954",
   "metadata": {},
   "outputs": [],
   "source": [
    "x_train=torch.tensor([[-1.0,3.4],[1.0,-3.4],[-5.5,0.01],[2.0,1.4],[4.0,2.4],])\n",
    "y_train= torch.tensor([0,0,0,1,1])\n",
    "x_test= torch.tensor([[-0.3,2.5],[1.0,-2.0]])\n",
    "y_test = torch.tensor([0,1])\n",
    "class MyDataset(torch.utils.data.Dataset):\n",
    "    def __init__(self,X,y):\n",
    "        self.features=X\n",
    "        self.labels=y\n",
    "\n",
    "    def __getitem__ (self,index):\n",
    "        x = self.features[index]\n",
    "        y= self.labels[index]\n",
    "        return x, y\n",
    "    def __len__(self):\n",
    "        return len(self.features)"
   ]
  },
  {
   "cell_type": "code",
   "execution_count": 28,
   "id": "9a332fb9-e61b-4284-afcf-42f871cd1e15",
   "metadata": {},
   "outputs": [],
   "source": [
    "train_dataset =MyDataset(x_train,y_train)"
   ]
  },
  {
   "cell_type": "code",
   "execution_count": 29,
   "id": "61081e87-89cb-42d9-8e10-f6c921308937",
   "metadata": {},
   "outputs": [],
   "source": [
    "test_dataset = MyDataset(x_test,y_test)"
   ]
  },
  {
   "cell_type": "code",
   "execution_count": 30,
   "id": "3941c610-517c-4975-b1ca-2f60e99932b8",
   "metadata": {},
   "outputs": [
    {
     "name": "stdout",
     "output_type": "stream",
     "text": [
      "5\n"
     ]
    }
   ],
   "source": [
    "print(len(train_dataset))"
   ]
  },
  {
   "cell_type": "code",
   "execution_count": 31,
   "id": "0cc3376e-ecd9-4ce9-bebd-b6a6d505dc04",
   "metadata": {},
   "outputs": [],
   "source": [
    "train_dataloader= torch.utils.data.DataLoader(\n",
    "    train_dataset, batch_size=2, shuffle =True, num_workers=0)"
   ]
  },
  {
   "cell_type": "code",
   "execution_count": 32,
   "id": "9acfc22e-f018-4420-b400-36996da34b8f",
   "metadata": {},
   "outputs": [],
   "source": [
    "test_dataloader= torch.utils.data.DataLoader(\n",
    "    test_dataset, batch_size=2, shuffle =False, num_workers=0)"
   ]
  },
  {
   "cell_type": "code",
   "execution_count": 33,
   "id": "e5f475d9-18e9-4c95-9f2e-faf4457bf87b",
   "metadata": {},
   "outputs": [
    {
     "name": "stdout",
     "output_type": "stream",
     "text": [
      "Batch: #0, \n",
      "x: tensor([[-5.5000,  0.0100],\n",
      "        [-1.0000,  3.4000]]), \n",
      "y:tensor([0, 0])\n",
      "Batch: #1, \n",
      "x: tensor([[ 2.0000,  1.4000],\n",
      "        [ 1.0000, -3.4000]]), \n",
      "y:tensor([1, 0])\n",
      "Batch: #2, \n",
      "x: tensor([[4.0000, 2.4000]]), \n",
      "y:tensor([1])\n"
     ]
    }
   ],
   "source": [
    "for (idx,(x,y)) in enumerate(train_dataloader):\n",
    "    print(f'Batch: #{idx}, \\nx: {x}, \\ny:{y}')"
   ]
  },
  {
   "cell_type": "code",
   "execution_count": 35,
   "id": "892e100d-d019-4530-afd1-012b3f4aeb1c",
   "metadata": {},
   "outputs": [
    {
     "name": "stdout",
     "output_type": "stream",
     "text": [
      "Batch: #9/0, \n",
      "loss: 0.73\n",
      "Batch: #9/1, \n",
      "loss: 0.76\n",
      "Batch: #9/2, \n",
      "loss: 0.67\n"
     ]
    }
   ],
   "source": [
    "model = NeuralNetwork(num_inputs=2, num_outputs=2)\n",
    "\n",
    "optimizer = torch.optim.SGD(model.parameters(),lr=0.01)\n",
    "\n",
    "num_epochs = 10\n",
    "for epoch in range(num_epochs):\n",
    "    model.train()\n",
    "for (idx,(x,y)) in enumerate(train_dataloader):\n",
    "    model_result = model(x)\n",
    "    loss = F.cross_entropy(model_result,y)\n",
    "\n",
    "    optimizer.zero_grad()\n",
    "    loss.backward()\n",
    "    optimizer.step()\n",
    "\n",
    "    print(f'Batch: #{epoch}/{idx}, \\nloss: {loss:.2f}')"
   ]
  },
  {
   "cell_type": "code",
   "execution_count": null,
   "id": "b7a4391e-64be-4bac-8fe0-675a6c6b1c51",
   "metadata": {},
   "outputs": [
    {
     "name": "stdout",
     "output_type": "stream",
     "text": [
      "Batch: #0, output:tensor([1, 1]), y:tensor([0, 1])\n"
     ]
    }
   ],
   "source": [
    "model.eval()\n",
    "for (idx,(x,y)) in enumerate(test_dataloader):\n",
    "    with torch.no_grad():\n",
    "        outputs=torch.argmax(torch.softmax(model(x),dim=1),dim=1)\n",
    "    print(f'Batch: #{idx}, output:{outputs}, y:{y}')"
   ]
  },
  {
   "cell_type": "code",
   "execution_count": null,
   "id": "f9c80f1d-528b-4dee-adf0-8fba7c61c4c5",
   "metadata": {},
   "outputs": [],
   "source": []
  }
 ],
 "metadata": {
  "kernelspec": {
   "display_name": "Python 3",
   "language": "python",
   "name": "python3"
  },
  "language_info": {
   "codemirror_mode": {
    "name": "ipython",
    "version": 3
   },
   "file_extension": ".py",
   "mimetype": "text/x-python",
   "name": "python",
   "nbconvert_exporter": "python",
   "pygments_lexer": "ipython3",
   "version": "3.13.8"
  }
 },
 "nbformat": 4,
 "nbformat_minor": 5
}
