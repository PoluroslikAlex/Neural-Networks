{
 "cells": [
  {
   "cell_type": "code",
   "execution_count": 2,
   "id": "0e879158",
   "metadata": {},
   "outputs": [
    {
     "name": "stdout",
     "output_type": "stream",
     "text": [
      "Defaulting to user installation because normal site-packages is not writeable\n",
      "Requirement already satisfied: torchvision in c:\\users\\polur\\appdata\\local\\packages\\pythonsoftwarefoundation.python.3.13_qbz5n2kfra8p0\\localcache\\local-packages\\python313\\site-packages (0.24.0)\n",
      "Requirement already satisfied: numpy in c:\\users\\polur\\appdata\\local\\packages\\pythonsoftwarefoundation.python.3.13_qbz5n2kfra8p0\\localcache\\local-packages\\python313\\site-packages (from torchvision) (2.3.3)\n",
      "Requirement already satisfied: torch==2.9.0 in c:\\users\\polur\\appdata\\local\\packages\\pythonsoftwarefoundation.python.3.13_qbz5n2kfra8p0\\localcache\\local-packages\\python313\\site-packages (from torchvision) (2.9.0)\n",
      "Requirement already satisfied: pillow!=8.3.*,>=5.3.0 in c:\\users\\polur\\appdata\\local\\packages\\pythonsoftwarefoundation.python.3.13_qbz5n2kfra8p0\\localcache\\local-packages\\python313\\site-packages (from torchvision) (12.0.0)\n",
      "Requirement already satisfied: filelock in c:\\users\\polur\\appdata\\local\\packages\\pythonsoftwarefoundation.python.3.13_qbz5n2kfra8p0\\localcache\\local-packages\\python313\\site-packages (from torch==2.9.0->torchvision) (3.20.0)\n",
      "Requirement already satisfied: typing-extensions>=4.10.0 in c:\\users\\polur\\appdata\\local\\packages\\pythonsoftwarefoundation.python.3.13_qbz5n2kfra8p0\\localcache\\local-packages\\python313\\site-packages (from torch==2.9.0->torchvision) (4.15.0)\n",
      "Requirement already satisfied: sympy>=1.13.3 in c:\\users\\polur\\appdata\\local\\packages\\pythonsoftwarefoundation.python.3.13_qbz5n2kfra8p0\\localcache\\local-packages\\python313\\site-packages (from torch==2.9.0->torchvision) (1.14.0)\n",
      "Requirement already satisfied: networkx>=2.5.1 in c:\\users\\polur\\appdata\\local\\packages\\pythonsoftwarefoundation.python.3.13_qbz5n2kfra8p0\\localcache\\local-packages\\python313\\site-packages (from torch==2.9.0->torchvision) (3.5)\n",
      "Requirement already satisfied: jinja2 in c:\\users\\polur\\appdata\\local\\packages\\pythonsoftwarefoundation.python.3.13_qbz5n2kfra8p0\\localcache\\local-packages\\python313\\site-packages (from torch==2.9.0->torchvision) (3.1.6)\n",
      "Requirement already satisfied: fsspec>=0.8.5 in c:\\users\\polur\\appdata\\local\\packages\\pythonsoftwarefoundation.python.3.13_qbz5n2kfra8p0\\localcache\\local-packages\\python313\\site-packages (from torch==2.9.0->torchvision) (2025.9.0)\n",
      "Requirement already satisfied: setuptools in c:\\users\\polur\\appdata\\local\\packages\\pythonsoftwarefoundation.python.3.13_qbz5n2kfra8p0\\localcache\\local-packages\\python313\\site-packages (from torch==2.9.0->torchvision) (80.9.0)\n",
      "Requirement already satisfied: mpmath<1.4,>=1.1.0 in c:\\users\\polur\\appdata\\local\\packages\\pythonsoftwarefoundation.python.3.13_qbz5n2kfra8p0\\localcache\\local-packages\\python313\\site-packages (from sympy>=1.13.3->torch==2.9.0->torchvision) (1.3.0)\n",
      "Requirement already satisfied: MarkupSafe>=2.0 in c:\\users\\polur\\appdata\\local\\packages\\pythonsoftwarefoundation.python.3.13_qbz5n2kfra8p0\\localcache\\local-packages\\python313\\site-packages (from jinja2->torch==2.9.0->torchvision) (3.0.3)\n",
      "Note: you may need to restart the kernel to use updated packages.\n"
     ]
    }
   ],
   "source": [
    "pip install --upgrade torchvision"
   ]
  },
  {
   "cell_type": "code",
   "execution_count": 8,
   "id": "96579f63",
   "metadata": {},
   "outputs": [],
   "source": [
    "import torch\n",
    "from torch.utils.data import Dataset\n",
    "from torchvision import datasets\n",
    "from torchvision.transforms import ToTensor\n",
    "import matplotlib.pyplot as plt"
   ]
  },
  {
   "cell_type": "code",
   "execution_count": 9,
   "id": "7b3c3a1a",
   "metadata": {},
   "outputs": [],
   "source": [
    "import torch\n",
    "from torch.autograd import grad\n",
    "import torch.nn.functional as F\n",
    "import torch.nn as nn"
   ]
  },
  {
   "cell_type": "code",
   "execution_count": 10,
   "id": "85d4e6c6",
   "metadata": {},
   "outputs": [],
   "source": [
    "import numpy as np"
   ]
  },
  {
   "cell_type": "code",
   "execution_count": 11,
   "id": "36839400",
   "metadata": {},
   "outputs": [
    {
     "data": {
      "text/plain": [
       "<torch._C.Generator at 0x1dffb855370>"
      ]
     },
     "execution_count": 11,
     "metadata": {},
     "output_type": "execute_result"
    }
   ],
   "source": [
    "torch.manual_seed(42)"
   ]
  },
  {
   "cell_type": "code",
   "execution_count": 12,
   "id": "03b8b071",
   "metadata": {},
   "outputs": [],
   "source": [
    "def build_AlexNET():\n",
    "    def init_weights(m):\n",
    "        if type(m) == torch.nn.Linear:\n",
    "            torch.nn.init.xavier_uniform_(m.weight)\n",
    "            m.bias.data.fill_(0.01)\n",
    "        if type(m) == torch.nn.Conv2d:\n",
    "            torch.nn.init.xavier_uniform_(m.weight)\n",
    "        \n",
    "    net = torch.nn.Sequential(\n",
    "        # Более простая архитектура для FashionMNIST\n",
    "        torch.nn.Conv2d(1, 64, kernel_size=5, stride=1, padding=2),\n",
    "        torch.nn.ReLU(),\n",
    "        torch.nn.MaxPool2d(kernel_size=2, stride=2),  # 28->14\n",
    "        \n",
    "        torch.nn.Conv2d(64, 192, kernel_size=3, padding=1),\n",
    "        torch.nn.ReLU(),\n",
    "        torch.nn.MaxPool2d(kernel_size=2, stride=2),  # 14->7\n",
    "        \n",
    "        torch.nn.Conv2d(192, 384, kernel_size=3, padding=1),\n",
    "        torch.nn.ReLU(),\n",
    "        torch.nn.Conv2d(384, 256, kernel_size=3, padding=1),\n",
    "        torch.nn.ReLU(),\n",
    "        torch.nn.Conv2d(256, 256, kernel_size=3, padding=1),\n",
    "        torch.nn.ReLU(),\n",
    "        torch.nn.MaxPool2d(kernel_size=2, stride=2),  # 7->3\n",
    "        \n",
    "        torch.nn.Flatten(),\n",
    "        torch.nn.Linear(256*3*3, 1024),\n",
    "        torch.nn.ReLU(),\n",
    "        torch.nn.Dropout(0.5),\n",
    "        torch.nn.Linear(1024, 512),\n",
    "        torch.nn.ReLU(),\n",
    "        torch.nn.Dropout(0.5),\n",
    "        torch.nn.Linear(512, 10)\n",
    "    )\n",
    "\n",
    "    net.apply(init_weights)\n",
    "    return net\n"
   ]
  },
  {
   "cell_type": "code",
   "execution_count": 13,
   "id": "c206000e",
   "metadata": {},
   "outputs": [
    {
     "name": "stdout",
     "output_type": "stream",
     "text": [
      "Sequential(\n",
      "  (0): Conv2d(1, 64, kernel_size=(5, 5), stride=(1, 1), padding=(2, 2))\n",
      "  (1): ReLU()\n",
      "  (2): MaxPool2d(kernel_size=2, stride=2, padding=0, dilation=1, ceil_mode=False)\n",
      "  (3): Conv2d(64, 192, kernel_size=(3, 3), stride=(1, 1), padding=(1, 1))\n",
      "  (4): ReLU()\n",
      "  (5): MaxPool2d(kernel_size=2, stride=2, padding=0, dilation=1, ceil_mode=False)\n",
      "  (6): Conv2d(192, 384, kernel_size=(3, 3), stride=(1, 1), padding=(1, 1))\n",
      "  (7): ReLU()\n",
      "  (8): Conv2d(384, 256, kernel_size=(3, 3), stride=(1, 1), padding=(1, 1))\n",
      "  (9): ReLU()\n",
      "  (10): Conv2d(256, 256, kernel_size=(3, 3), stride=(1, 1), padding=(1, 1))\n",
      "  (11): ReLU()\n",
      "  (12): MaxPool2d(kernel_size=2, stride=2, padding=0, dilation=1, ceil_mode=False)\n",
      "  (13): Flatten(start_dim=1, end_dim=-1)\n",
      "  (14): Linear(in_features=2304, out_features=1024, bias=True)\n",
      "  (15): ReLU()\n",
      "  (16): Dropout(p=0.5, inplace=False)\n",
      "  (17): Linear(in_features=1024, out_features=512, bias=True)\n",
      "  (18): ReLU()\n",
      "  (19): Dropout(p=0.5, inplace=False)\n",
      "  (20): Linear(in_features=512, out_features=10, bias=True)\n",
      ")\n"
     ]
    }
   ],
   "source": [
    "alexnet = build_AlexNET()\n",
    "print(alexnet)"
   ]
  },
  {
   "cell_type": "code",
   "execution_count": 9,
   "id": "0f3f1d69",
   "metadata": {},
   "outputs": [],
   "source": [
    "training_data = datasets.FashionMNIST(\n",
    "    root=\"data\",\n",
    "    train=True,\n",
    "    download=True,\n",
    "    transform=ToTensor()\n",
    ")\n",
    "\n",
    "test_data = datasets.FashionMNIST(\n",
    "    root=\"data\",\n",
    "    train=False,\n",
    "    download=True,\n",
    "    transform=ToTensor()\n",
    ")"
   ]
  },
  {
   "cell_type": "code",
   "execution_count": 10,
   "id": "6172699b",
   "metadata": {},
   "outputs": [
    {
     "data": {
      "image/png": "[encoded data removed]",
      "text/plain": [
       "<Figure size 800x800 with 9 Axes>"
      ]
     },
     "metadata": {},
     "output_type": "display_data"
    }
   ],
   "source": [
    "labels_map = {\n",
    "    0: \"T-Shirt\",\n",
    "    1: \"Trouser\",\n",
    "    2: \"Pullover\",\n",
    "    3: \"Dress\",\n",
    "    4: \"Coat\",\n",
    "    5: \"Sandal\",\n",
    "    6: \"Shirt\",\n",
    "    7: \"Sneaker\",\n",
    "    8: \"Bag\",\n",
    "    9: \"Ankle Boot\",\n",
    "}\n",
    "figure = plt.figure(figsize=(8, 8))\n",
    "cols, rows = 3, 3\n",
    "for i in range(1, cols * rows + 1):\n",
    "    sample_idx = torch.randint(len(training_data), size=(1,)).item()\n",
    "    img, label = training_data[sample_idx]\n",
    "    figure.add_subplot(rows, cols, i)\n",
    "    plt.title(labels_map[label])\n",
    "    plt.axis(\"off\")\n",
    "    plt.imshow(img.squeeze(), cmap=\"gray\")\n",
    "plt.show()"
   ]
  },
  {
   "cell_type": "code",
   "execution_count": null,
   "id": "44634be6",
   "metadata": {},
   "outputs": [
    {
     "ename": "NameError",
     "evalue": "name 'torch' is not defined",
     "output_type": "error",
     "traceback": [
      "\u001b[31m---------------------------------------------------------------------------\u001b[39m",
      "\u001b[31mNameError\u001b[39m                                 Traceback (most recent call last)",
      "\u001b[36mCell\u001b[39m\u001b[36m \u001b[39m\u001b[32mIn[1]\u001b[39m\u001b[32m, line 1\u001b[39m\n\u001b[32m----> \u001b[39m\u001b[32m1\u001b[39m train_dataloader= \u001b[43mtorch\u001b[49m.utils.data.DataLoader(\n\u001b[32m      2\u001b[39m     training_data, batch_size=\u001b[32m100\u001b[39m, shuffle =\u001b[38;5;28;01mTrue\u001b[39;00m, num_workers=\u001b[32m8\u001b[39m)\n\u001b[32m      3\u001b[39m test_dataloader =torch.utils.data.DataLoader(\n\u001b[32m      4\u001b[39m     test_data,batch_size=\u001b[32m100\u001b[39m,shuffle=\u001b[38;5;28;01mFalse\u001b[39;00m,num_workers=\u001b[32m8\u001b[39m)\n",
      "\u001b[31mNameError\u001b[39m: name 'torch' is not defined"
     ]
    }
   ],
   "source": [
    "train_dataloader= torch.utils.data.DataLoader(\n",
    "    training_data, batch_size=500, shuffle =True, num_workers=8)\n",
    "test_dataloader =torch.utils.data.DataLoader(\n",
    "    test_data,batch_size=500,shuffle=False,num_workers=8)\n"
   ]
  },
  {
   "cell_type": "code",
   "execution_count": 12,
   "id": "72384a4b",
   "metadata": {},
   "outputs": [],
   "source": [
    "from torch import optim\n",
    "from tqdm import tqdm"
   ]
  },
  {
   "cell_type": "code",
   "execution_count": 3,
   "id": "9b11b24d",
   "metadata": {},
   "outputs": [],
   "source": [
    "# define a train function, model-agnostic, which will be used for further training\n",
    "def train(net, train_loader, device, num_epochs, learning_rate):\n",
    "    \n",
    "    optimizer = optim.SGD(net.parameters(), lr=learning_rate, momentum=0.9)\n",
    "    loss_function = torch.nn.CrossEntropyLoss()\n",
    "    acc_history = []\n",
    "\n",
    "    with tqdm(total=len(train_loader)*num_epochs, position=0, leave=True) as pbar:\n",
    "\n",
    "        for epoch in range(num_epochs):\n",
    "            running_loss = 0.0\n",
    "            correct = 0\n",
    "            total = 0 \n",
    "            \n",
    "            for batch_num, (inputs, labels) in enumerate(train_loader):\n",
    "                # Possibly copy inputs and labels to the GPU\n",
    "                # batch x [48, 48, 1] -> batch x [1, 48, 48]\n",
    "                inputs = inputs.permute(0, 1, 3,2).to(device)\n",
    "                labels = labels.to(device)\n",
    "                \n",
    "                optimizer.zero_grad()\n",
    "\n",
    "                # Forward pass\n",
    "                outputs = net(inputs)\n",
    "                loss = loss_function(outputs, labels)\n",
    "\n",
    "                # Backpropagation                \n",
    "                loss.backward()\n",
    "\n",
    "                # Update\n",
    "                optimizer.step()\n",
    "\n",
    "                # Print progress\n",
    "                running_loss += loss.item()\n",
    "\n",
    "                # Calculate batch Accuracy\n",
    "                _, predicted = outputs.max(1)\n",
    "                batch_total = labels.size(0)\n",
    "                batch_correct = predicted.eq(labels).sum().item()\n",
    "                batch_acc = batch_correct/batch_total\n",
    "                \n",
    "                pbar.set_description(\"Epoch: %d, Batch: %2d, Loss: %.2f, Acc: %.2f\" % (epoch, batch_num, running_loss, batch_acc))\n",
    "                pbar.update()\n",
    "\n",
    "                total += batch_total\n",
    "                correct += batch_correct\n",
    "\n",
    "            # Print the evaluation metric and reset it for the next epoch\n",
    "            acc = correct/total \n",
    "            acc_history.append(acc)\n",
    "\n",
    "        pbar.close()\n",
    "\n",
    "    return acc_history\n"
   ]
  },
  {
   "cell_type": "code",
   "execution_count": null,
   "id": "826ecd8c",
   "metadata": {},
   "outputs": [
    {
     "name": "stderr",
     "output_type": "stream",
     "text": [
      "Epoch: 49, Batch: 599, Loss: 133.14, Acc: 0.91: 100%|██████████| 30000/30000 [1:35:45<00:00,  5.22it/s]   \n"
     ]
    }
   ],
   "source": [
    "# prepare training\n",
    "BATCH_SIZE = 100\n",
    "EPOCHS = 20\n",
    "LR = 0.001\n",
    "device='cpu'\n",
    "net=alexnet\n",
    "\n",
    "hist = train(net, train_dataloader, device, EPOCHS, LR)"
   ]
  },
  {
   "cell_type": "code",
   "execution_count": 1,
   "id": "8e4add64",
   "metadata": {},
   "outputs": [],
   "source": [
    "def print_history(history, title):\n",
    "    plt.figure(figsize=(7, 4))\n",
    "    plt.plot(history)\n",
    "    plt.title(title)\n",
    "    plt.ylabel('Accuracy')\n",
    "    plt.xlabel('Epoch')"
   ]
  },
  {
   "cell_type": "code",
   "execution_count": 2,
   "id": "205c05ef",
   "metadata": {},
   "outputs": [
    {
     "ename": "NameError",
     "evalue": "name 'hist' is not defined",
     "output_type": "error",
     "traceback": [
      "\u001b[31m---------------------------------------------------------------------------\u001b[39m",
      "\u001b[31mNameError\u001b[39m                                 Traceback (most recent call last)",
      "\u001b[36mCell\u001b[39m\u001b[36m \u001b[39m\u001b[32mIn[2]\u001b[39m\u001b[32m, line 1\u001b[39m\n\u001b[32m----> \u001b[39m\u001b[32m1\u001b[39m print_history(\u001b[43mhist\u001b[49m, \u001b[33m\"\u001b[39m\u001b[33mNN Model Accuracy\u001b[39m\u001b[33m\"\u001b[39m)\n",
      "\u001b[31mNameError\u001b[39m: name 'hist' is not defined"
     ]
    }
   ],
   "source": [
    "print_history(hist, \"NN Model Accuracy\")"
   ]
  },
  {
   "cell_type": "code",
   "execution_count": 6,
   "id": "d55880ff",
   "metadata": {},
   "outputs": [],
   "source": [
    "def evaluate_acc(net, test_loader, device='cpu'):\n",
    "\n",
    "    total = 0\n",
    "    correct = 0\n",
    "    \n",
    "    for batch_num, (inputs, labels) in enumerate(test_loader):\n",
    "        # Possibly copy inputs and labels to the GPU\n",
    "        inputs = inputs.permute(0, 1, 3,2).to(device)\n",
    "        labels = labels.to(device)\n",
    "        \n",
    "        outputs = net(inputs)        \n",
    "        _, predicted = outputs.max(1)\n",
    "        \n",
    "        total += labels.size(0)\n",
    "        correct += predicted.eq(labels).sum().item()\n",
    "        \n",
    "    acc = correct/total\n",
    "    return acc\n"
   ]
  },
  {
   "cell_type": "code",
   "execution_count": 7,
   "id": "7a736a00",
   "metadata": {},
   "outputs": [
    {
     "ename": "NameError",
     "evalue": "name 'alexnet' is not defined",
     "output_type": "error",
     "traceback": [
      "\u001b[31m---------------------------------------------------------------------------\u001b[39m",
      "\u001b[31mNameError\u001b[39m                                 Traceback (most recent call last)",
      "\u001b[36mCell\u001b[39m\u001b[36m \u001b[39m\u001b[32mIn[7]\u001b[39m\u001b[32m, line 1\u001b[39m\n\u001b[32m----> \u001b[39m\u001b[32m1\u001b[39m evaluate_acc(\u001b[43malexnet\u001b[49m,test_dataloader)\n",
      "\u001b[31mNameError\u001b[39m: name 'alexnet' is not defined"
     ]
    }
   ],
   "source": [
    "evaluate_acc(alexnet,test_dataloader)"
   ]
  },
  {
   "cell_type": "code",
   "execution_count": null,
   "id": "2525b343",
   "metadata": {},
   "outputs": [],
   "source": []
  }
 ],
 "metadata": {
  "kernelspec": {
   "display_name": "Python 3",
   "language": "python",
   "name": "python3"
  },
  "language_info": {
   "codemirror_mode": {
    "name": "ipython",
    "version": 3
   },
   "file_extension": ".py",
   "mimetype": "text/x-python",
   "name": "python",
   "nbconvert_exporter": "python",
   "pygments_lexer": "ipython3",
   "version": "3.13.9"
  }
 },
 "nbformat": 4,
 "nbformat_minor": 5
}
